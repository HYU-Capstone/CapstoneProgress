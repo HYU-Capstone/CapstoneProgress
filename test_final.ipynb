{
 "cells": [
  {
   "cell_type": "code",
   "execution_count": 3,
   "metadata": {},
   "outputs": [
    {
     "name": "stdout",
     "output_type": "stream",
     "text": [
      "['C:/Users/JB/Desktop/input\\\\Day1\\\\test1554021122.734998.jpg', '484 418 637 589', '673 389 784 511', 'C:/Users/JB/Desktop/input\\\\Day2\\\\test1554021576.559704.jpg', '764 405 876 533', 'C:/Users/JB/Desktop/input\\\\Day3\\\\test1554021624.9370902.jpg', '737 319 861 459', '428 426 543 566', '']\n",
      "C:/Users/JB/Desktop/input/Day1/test1554021122.734998.jpg\n",
      "484 418 637 589\n",
      "673 389 784 511\n",
      "C:/Users/JB/Desktop/input/Day2/test1554021576.559704.jpg\n",
      "764 405 876 533\n",
      "C:/Users/JB/Desktop/input/Day3/test1554021624.9370902.jpg\n",
      "737 319 861 459\n",
      "428 426 543 566\n",
      "C:/Users/JB/Desktop/input\n",
      "C:/Users/JB/Desktop/output\n",
      "hi\n",
      "hi\n",
      "hi\n",
      "hi\n",
      "hi\n"
     ]
    }
   ],
   "source": [
    "from face_detect import *\n",
    "from face_tracking import *\n",
    "\n",
    "input_dir = 'C:/Users/JB/Desktop/input'\n",
    "output_dir = 'C:/Users/JB/Desktop/output'\n",
    "bounding_boxes_filename = 'C:/Users/JB/Desktop/output/bounding_boxes_0.txt'\n",
    "\n",
    "\n",
    "#align_dataset_mtcnn(input_dir, output_dir)\n",
    "tracking(bounding_boxes_filename, input_dir, output_dir)"
   ]
  },
  {
   "cell_type": "code",
   "execution_count": null,
   "metadata": {},
   "outputs": [],
   "source": []
  }
 ],
 "metadata": {
  "kernelspec": {
   "display_name": "Python 3",
   "language": "python",
   "name": "python3"
  },
  "language_info": {
   "codemirror_mode": {
    "name": "ipython",
    "version": 3
   },
   "file_extension": ".py",
   "mimetype": "text/x-python",
   "name": "python",
   "nbconvert_exporter": "python",
   "pygments_lexer": "ipython3",
   "version": "3.7.3"
  }
 },
 "nbformat": 4,
 "nbformat_minor": 2
}
